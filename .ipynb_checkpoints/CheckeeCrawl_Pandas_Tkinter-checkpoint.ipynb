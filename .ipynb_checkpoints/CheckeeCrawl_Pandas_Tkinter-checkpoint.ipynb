{
 "cells": [
  {
   "cell_type": "code",
   "execution_count": 1,
   "metadata": {},
   "outputs": [],
   "source": [
    "from bs4 import BeautifulSoup\n",
    "from datetime import datetime\n",
    "import requests\n",
    "from IPython.display import clear_output\n",
    "import time\n",
    "import webbrowser\n",
    "import numpy as np\n",
    "import unicodedata\n",
    "import pickle\n",
    "import pandas as pd\n",
    "import codecs\n",
    "import matplotlib.pyplot as plt\n",
    "from tkinter import *\n",
    "from tkinter import ttk\n",
    "\n",
    "#Function to create time list\n",
    "def ListofTime_generator(StartYear,StartMon,EndYear,EndMon):\n",
    "    ListofTime = []\n",
    "    while(StartYear!=EndYear or StartMon!=EndMon):\n",
    "        ListofTime.append(str(StartYear) + \"-\" + str(StartMon).zfill(2))\n",
    "        if StartMon == 12:\n",
    "            StartYear += 1\n",
    "            StartMon = 1\n",
    "        else:\n",
    "            StartMon += 1\n",
    "    ListofTime.append(str(EndYear) + \"-\" + str(EndMon).zfill(2))\n",
    "    return ListofTime\n",
    "\n",
    "def HTMLrequest(ListofTime):\n",
    "    #ListofTime = [] #200812 - 201903\n",
    "    LinkHeader = \"https://www.checkee.info/main.php?dispdate=\"\n",
    "    AllPages = {}\n",
    "    len_month = len(ListofTime)\n",
    "    start_time = time.time()\n",
    "    count = 1\n",
    "    for months in ListofTime:\n",
    "        clear_output()\n",
    "        cur_time = time.time()\n",
    "        print(\"requesting from \" + LinkHeader + months)\n",
    "        print(\"Progress: \",count,\"/\",len_month)\n",
    "        print(\"time elapsed:\",int(cur_time-start_time),\"seconds\")\n",
    "        estimation = (cur_time-start_time)/count*(len_month-count)/60\n",
    "        print(\"Estimate Time Left: %5.2f Minutes\" % (estimation))\n",
    "        session = requests.Session()\n",
    "        page = session.get(LinkHeader + months, headers={'User-Agent': 'Mozilla/5.0'})\n",
    "        AllPages[months] = page.content.decode(\"utf-8\",\"ignore\")\n",
    "        count += 1\n",
    "    return AllPages\n",
    "\n",
    "#use strtmp for develope\n",
    "class ApplicationCase():\n",
    "    def __init__(self, ID):\n",
    "        self.ID = ID\n",
    "        self.VisaType = None\n",
    "        self.VisaEntry = None\n",
    "        self.Consulate = None\n",
    "        self.Major = None\n",
    "        self.CheckDate = None\n",
    "        self.CompleteDate = None\n",
    "        self.WaitingDays = None\n",
    "        self.Comment = None\n",
    "        self.Status = None\n",
    "\n",
    "    def DebugPrint(self):\n",
    "        if self.CompleteDate:\n",
    "            print(\"----   This case is completed   ----\")\n",
    "        else:\n",
    "            print(\"**** This case is not completed ****\")\n",
    "        print(\"ID            :\",self.ID)\n",
    "        print(\"Visa Type     :\",self.VisaType)\n",
    "        print(\"Visa Entry    :\",self.VisaEntry)\n",
    "        print(\"Consulate     :\",self.Consulate)\n",
    "        print(\"Major         :\",self.Major)\n",
    "        print(\"Status        :\",self.Status)\n",
    "        print(\"Check Date    :\",self.CheckDate)\n",
    "        print(\"Complete Date :\",self.CompleteDate)\n",
    "        print(\"Waiting Days  :\",self.WaitingDays)\n",
    "        print(\"Comment       :\",self.Comment)\n",
    "    def CasetoList(self):\n",
    "        table = [self.ID,self.VisaType,self.VisaEntry,self.Consulate,self.Major,self.Status,self.CheckDate,self.CompleteDate,self.WaitingDays,self.Comment]\n",
    "        return table\n",
    "    def ComputeWaitingDays(self):\n",
    "        if self.CompleteDate and self.CheckDate:\n",
    "            self.WaitingDays = self.CompleteDate-self.CheckDate\n",
    "        else: \n",
    "            return\n",
    "\n",
    "#The struct of the data is organized in dictionary sorted by Months\n",
    "#Return a list of applications\n",
    "def ExtractDatafromHTML(AllPages):\n",
    "    ApplicationofAll = {}\n",
    "    for keys in AllPages.keys():\n",
    "        clear_output()\n",
    "        print(\"processing month\",keys)\n",
    "        #convert html page to beautifulsoup object\n",
    "        pagetmp = AllPages[keys]\n",
    "        soup = BeautifulSoup(pagetmp, 'html.parser')\n",
    "        #There are 8 tables in the html\n",
    "        #find the 6th table and extract it to be further analysised\n",
    "        table = soup.find_all(\"table\")\n",
    "        count = 0\n",
    "        for items in table:\n",
    "            if count == 6:\n",
    "                target = items\n",
    "                break\n",
    "            count+=1\n",
    "        #In this table, separated case by case except item 0\n",
    "        #item 0 contains the header of the table\n",
    "        #so item 0 is poped in the program\n",
    "        applications = target.find_all(\"tr\")\n",
    "        applications.pop(0)\n",
    "        CasesofMonth = []\n",
    "        for apps in applications:\n",
    "            SingleCase = apps.find_all(\"td\")\n",
    "            SingleCase.pop(0)\n",
    "            count = 0\n",
    "            for items in SingleCase:\n",
    "                #print(str(items)[4:-5])\n",
    "                if count == 0:\n",
    "                    AppTmp = ApplicationCase(str(items)[4:-5])\n",
    "                elif count == 1:\n",
    "                    AppTmp.VisaType = str(items)[4:-5]\n",
    "                elif count == 2:\n",
    "                    AppTmp.VisaEntry = str(items)[4:-5]\n",
    "                elif count == 3:\n",
    "                    AppTmp.Consulate = str(items)[4:-5]\n",
    "                elif count == 4:\n",
    "                    AppTmp.Major = str(items)[4:-5]\n",
    "                elif count == 5:\n",
    "                    AppTmp.Status = str(items)[4:-5]\n",
    "                elif count == 6:\n",
    "                    AppTmp.CheckDate = str(items)[4:-5]\n",
    "                elif count == 7:\n",
    "                    AppTmp.CompleteDate = str(items)[4:-5]\n",
    "                elif count == 8:\n",
    "                    AppTmp.WaitingDays = int(str(items)[4:-5])\n",
    "                elif count == 9:\n",
    "                    AppTmp.Comment = str(items)[74:-52]\n",
    "                count += 1\n",
    "            CasesofMonth.append(AppTmp)\n",
    "        ApplicationofAll[keys] = CasesofMonth\n",
    "\n",
    "    #converting dictionary to list\n",
    "    APPLICATIONS_OF_ALL = []\n",
    "    for keys in ApplicationofAll.keys():\n",
    "        for items in ApplicationofAll[keys]:\n",
    "            APPLICATIONS_OF_ALL.append(items.CasetoList())\n",
    "    for items in APPLICATIONS_OF_ALL:\n",
    "        items[6] = datetime.strptime(items[6], '%Y-%m-%d')\n",
    "        if items[7] == \"0000-00-00\":\n",
    "            items[7] = None\n",
    "        else:\n",
    "            items[7] = datetime.strptime(items[7], '%Y-%m-%d')\n",
    "        if items[-1] == \"\":\n",
    "            items[-1] = None\n",
    "    return APPLICATIONS_OF_ALL\n",
    "\n",
    "#converting list of applications to pandas data frame\n",
    "def ListtoPandasFrame(APPLICATIONS_OF_ALL):\n",
    "    #APPLICATIONS_OF_ALL to pandas data frame\n",
    "    tabs = [\"ID\",\"VisaType\",\"VisaEntry\",\"Consulate\",\"Major\",\"Status\",\"CheckDate\",\"CompleteDate\",\"WaitingDays\",\"Comments\"]\n",
    "    ApplicationFrame = pd.DataFrame(APPLICATIONS_OF_ALL,columns=tabs)\n",
    "    return ApplicationFrame"
   ]
  },
  {
   "cell_type": "code",
   "execution_count": 5,
   "metadata": {},
   "outputs": [],
   "source": [
    "def center(e):\n",
    "    w = int(root.winfo_width() / 3.5) # get root width and scale it ( in pixels )\n",
    "    s = 'Checkee.info Data Analysis'.rjust(w//2)\n",
    "    root.title(s)\n",
    "\n",
    "\n",
    "\n",
    "root = Tk()\n",
    "root.bind(\"<Configure>\", center) # called when window resized\n",
    "root.configure(background=\"black\")\n",
    "\n",
    "gui_style = ttk.Style()\n",
    "gui_style.configure('My.TButton', foreground='#334353')\n",
    "gui_style.configure('TAB.TFrame', background='grey')\n",
    "gui_style.configure('text.TLabel', background='black',foreground=\"white\")\n",
    "\n",
    "tabControl = ttk.Notebook(root)\n",
    "tabControl.pack(fill='both', expand='yes')\n",
    "tab1 = ttk.Frame(root, style=\"TAB.TFrame\")\n",
    "tab2 = ttk.Frame(root)\n",
    "tab2 = ttk.Frame(root, style=\"TAB.TFrame\")\n",
    "tab3 = ttk.Frame(root)\n",
    "tab3 = ttk.Frame(root, style=\"TAB.TFrame\")\n",
    "\n",
    "tabControl.add(tab1, text='FetchData')\n",
    "tabControl.add(tab2, text='InterestedData')\n",
    "tabControl.add(tab3, text='Percentage')\n",
    "\n",
    "#Label(tab1, image=photo1,bg=\"black\").grid(row=0,column=0,sticky=W)\n",
    "Label(tab1, text=\"Please Select the Time Range you are Interested:\").grid(row=0,column=1,sticky=W)\n",
    "\n",
    "root.mainloop()"
   ]
  },
  {
   "cell_type": "code",
   "execution_count": 6,
   "metadata": {},
   "outputs": [],
   "source": [
    "StartYear,StartMon,EndYear,EndMon = 2008,12,2019,3\n",
    "#flag for processing, if flag==1, download from online and save it to csv\n",
    "#if flag==2, load data from csv file\n",
    "flag = 2\n",
    "if flag == 1:\n",
    "    ListofTime = ListofTime_generator(StartYear,StartMon,EndYear,EndMon)\n",
    "    AllPages = HTMLrequest(ListofTime)\n",
    "    APPLICATIONS_OF_ALL = ExtractDatafromHTML(AllPages)\n",
    "    ApplicationFrame = ListtoPandasFrame(APPLICATIONS_OF_ALL)\n",
    "    ApplicationFrame.to_csv(\"./database/PandasApplicationData.csv\", index = False, sep=',', encoding='utf-8')\n",
    "elif flag == 2:\n",
    "    ApplicationFrame = pd.read_csv(\"./database/PandasApplicationData.csv\")"
   ]
  },
  {
   "cell_type": "code",
   "execution_count": 77,
   "metadata": {
    "scrolled": false
   },
   "outputs": [
    {
     "data": {
      "text/plain": [
       "<matplotlib.axes._subplots.AxesSubplot at 0x214c044f7f0>"
      ]
     },
     "execution_count": 77,
     "metadata": {},
     "output_type": "execute_result"
    },
    {
     "data": {
      "image/png": "[encoded data removed]",
      "text/plain": [
       "<Figure size 432x288 with 2 Axes>"
      ]
     },
     "metadata": {},
     "output_type": "display_data"
    }
   ],
   "source": [
    "#ApplicationFrame.drop(na(subset = [\"CompleteDate\"]))\n",
    "FinishedAppsFrame = ApplicationFrame[ApplicationFrame.Status == \"Clear\"]\n",
    "FinishedAppsFrame = FinishedAppsFrame[FinishedAppsFrame.WaitingDays >0]\n",
    "FinishedAppsFrame['Check_year_mon'] = FinishedAppsFrame.CheckDate.str.slice(start=0,stop=7)\n",
    "\n",
    "LongCheckAppsFrame = FinishedAppsFrame[FinishedAppsFrame.WaitingDays >=60 ]\n",
    "FAppsFrame = FinishedAppsFrame[FinishedAppsFrame.VisaType.str.slice(stop=1) == \"F\"]\n",
    "HAppsFrame = FinishedAppsFrame[FinishedAppsFrame.VisaType.str.slice(stop=1) == \"H\"]\n",
    "JAppsFrame = FinishedAppsFrame[FinishedAppsFrame.VisaType.str.slice(stop=1) == \"J\"]\n",
    "BAppsFrame = FinishedAppsFrame[FinishedAppsFrame.VisaType.str.slice(stop=1) == \"B\"]\n",
    "CommentsAppsFrame = ApplicationFrame.dropna(subset = [\"Comments\"])\n",
    "\n",
    "#LongCheckAppsFrame.groupby(\"VisaType\").min()[[\"WaitingDays\"]]\n",
    "#LongCheckAppsFrame.groupby(\"VisaType\").max()[[\"WaitingDays\"]]\n",
    "#LongCheckAppsFrame.groupby(\"VisaType\").mean()[[\"WaitingDays\"]]\n",
    "fig = plt.figure()\n",
    "ax1 = fig.add_subplot(121)\n",
    "ax2 = fig.add_subplot(122)\n",
    "\n",
    "LongCheckAppsFrame.groupby(\"VisaType\").size().plot(kind='pie',ax=ax1)\n",
    "FinishedAppsFrame.groupby(\"VisaType\").size().plot(kind='pie',ax=ax2)"
   ]
  },
  {
   "cell_type": "code",
   "execution_count": 78,
   "metadata": {},
   "outputs": [],
   "source": [
    "# year FinishedAppsFrame.CheckDate.str.slice(start=0,stop=4)\n",
    "# Mon FinishedAppsFrame.CheckDate.str.slice(start=5,stop=7)\n"
   ]
  },
  {
   "cell_type": "code",
   "execution_count": 79,
   "metadata": {},
   "outputs": [
    {
     "data": {
      "text/plain": [
       "<matplotlib.axes._subplots.AxesSubplot at 0x214c0a002e8>"
      ]
     },
     "execution_count": 79,
     "metadata": {},
     "output_type": "execute_result"
    },
    {
     "data": {
      "image/png": "[encoded data removed]",
      "text/plain": [
       "<Figure size 432x288 with 1 Axes>"
      ]
     },
     "metadata": {
      "needs_background": "light"
     },
     "output_type": "display_data"
    }
   ],
   "source": [
    "LongCheckAppsFrame.groupby(\"VisaType\").mean()[[\"WaitingDays\"]].plot(kind='bar')"
   ]
  },
  {
   "cell_type": "code",
   "execution_count": null,
   "metadata": {},
   "outputs": [],
   "source": []
  }
 ],
 "metadata": {
  "kernelspec": {
   "display_name": "Python 3",
   "language": "python",
   "name": "python3"
  },
  "language_info": {
   "codemirror_mode": {
    "name": "ipython",
    "version": 3
   },
   "file_extension": ".py",
   "mimetype": "text/x-python",
   "name": "python",
   "nbconvert_exporter": "python",
   "pygments_lexer": "ipython3",
   "version": "3.7.1"
  }
 },
 "nbformat": 4,
 "nbformat_minor": 2
}
