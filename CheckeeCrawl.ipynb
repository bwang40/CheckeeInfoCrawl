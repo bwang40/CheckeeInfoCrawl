{
 "cells": [
  {
   "cell_type": "code",
   "execution_count": 1,
   "metadata": {
    "ExecuteTime": {
     "end_time": "2020-03-05T02:15:01.598043Z",
     "start_time": "2020-03-05T02:15:00.773300Z"
    }
   },
   "outputs": [],
   "source": [
    "from bs4 import BeautifulSoup\n",
    "from datetime import datetime\n",
    "import requests\n",
    "from IPython.display import clear_output\n",
    "import time\n",
    "import webbrowser\n",
    "import numpy as np\n",
    "import unicodedata\n",
    "import pickle\n",
    "import pandas as pd\n",
    "import codecs\n",
    "import matplotlib.pyplot as plt"
   ]
  },
  {
   "cell_type": "code",
   "execution_count": 2,
   "metadata": {
    "ExecuteTime": {
     "end_time": "2020-03-05T02:16:31.242240Z",
     "start_time": "2020-03-05T02:15:08.705408Z"
    }
   },
   "outputs": [
    {
     "name": "stdout",
     "output_type": "stream",
     "text": [
      "requesting from https://www.checkee.info/main.php?dispdate=2020-01\n",
      "Progress:  134 / 134\n",
      "time elapsed: 81 seconds\n",
      "Estimate Time Left: 0.0 minuites\n"
     ]
    }
   ],
   "source": [
    "StartYear = 2008\n",
    "StartMon = 12\n",
    "EndYear = 2020\n",
    "EndMon = 2\n",
    "\n",
    "#ListofTime = [] #200812 - 201903\n",
    "LinkHeader = \"https://www.checkee.info/main.php?dispdate=\"\n",
    "\n",
    "#Function to create time list\n",
    "def ListofTime_generator(StartYear,StartMon,EndYear,EndMon):\n",
    "    ListofTime = []\n",
    "    while(StartYear!=EndYear or StartMon!=EndMon):\n",
    "        ListofTime.append(str(StartYear) + \"-\" + str(StartMon).zfill(2))\n",
    "        if StartMon == 12:\n",
    "            StartYear += 1\n",
    "            StartMon = 1\n",
    "        else:\n",
    "            StartMon += 1\n",
    "    return ListofTime\n",
    "\n",
    "ListofTime = ListofTime_generator(StartYear,StartMon,EndYear,EndMon)\n",
    "\n",
    "#print(ListofTime)\n",
    "AllPages = {}\n",
    "len_month = len(ListofTime)\n",
    "start_time = time.time()\n",
    "count = 1\n",
    "for months in ListofTime:\n",
    "    clear_output()\n",
    "    cur_time = time.time()\n",
    "    print(\"requesting from \" + LinkHeader + months)\n",
    "    print(\"Progress: \",count,\"/\",len_month)\n",
    "    print(\"time elapsed:\",int(cur_time-start_time),\"seconds\")\n",
    "    estimation = int((cur_time-start_time)/count*(len_month-count))\n",
    "    print(\"Estimate Time Left:\", estimation/60, \"minuites\")\n",
    "    session = requests.Session()\n",
    "    page = session.get(LinkHeader + months, headers={'User-Agent': 'Mozilla/5.0'})\n",
    "    AllPages[months] = page.content.decode(\"utf-8\",\"ignore\")\n",
    "    count += 1\n",
    "\n",
    "#page = session.get(ListofTime[0], headers={'User-Agent': 'Mozilla/5.0'})\n",
    "#headers ={'User-Agent': 'Mozilla/5.0 (Windows NT 6.1; Win64; x64) AppleWebKit/537.36 (KHTML, like Gecko) Chrome/59.0.3071.115 Safari/537.36'} \n",
    "#page = requests.get(ListofTime[0],headers)\n",
    "\n",
    "#save the extrcted data to npy file\n",
    "#now = datetime.now()\n",
    "#date_time = now.strftime(\"%m-%d-%Y_%H-%M\")\n",
    "#filename = date_time +\".npy\"\n",
    "#np.save(filename, AllPages)"
   ]
  },
  {
   "cell_type": "code",
   "execution_count": 3,
   "metadata": {
    "ExecuteTime": {
     "end_time": "2020-03-05T02:16:33.730085Z",
     "start_time": "2020-03-05T02:16:33.722085Z"
    }
   },
   "outputs": [],
   "source": [
    "#use strtmp for develope\n",
    "class ApplicationCase():\n",
    "    def __init__(self, ID):\n",
    "        self.ID = ID\n",
    "        self.VisaType = None\n",
    "        self.VisaEntry = None\n",
    "        self.Consulate = None\n",
    "        self.Major = None\n",
    "        self.CheckDate = None\n",
    "        self.CompleteDate = None\n",
    "        self.WaitingDays = None\n",
    "        self.Comment = None\n",
    "        self.Status = None\n",
    "\n",
    "    def DebutPrint(self):\n",
    "        if self.CompleteDate:\n",
    "            print(\"----   This case is completed   ----\")\n",
    "        else:\n",
    "            print(\"**** This case is not completed ****\")\n",
    "        print(\"ID            :\",self.ID)\n",
    "        print(\"Visa Type     :\",self.VisaType)\n",
    "        print(\"Visa Entry    :\",self.VisaEntry)\n",
    "        print(\"Consulate     :\",self.Consulate)\n",
    "        print(\"Major         :\",self.Major)\n",
    "        print(\"Status        :\",self.Status)\n",
    "        print(\"Check Date    :\",self.CheckDate)\n",
    "        print(\"Complete Date :\",self.CompleteDate)\n",
    "        print(\"Waiting Days  :\",self.WaitingDays)\n",
    "        print(\"Comment       :\",self.Comment)\n",
    "    def CasetoList(self):\n",
    "        table = [self.ID,self.VisaType,self.VisaEntry,self.Consulate,self.Major,self.Status,self.CheckDate,self.CompleteDate,self.WaitingDays,self.Comment]\n",
    "        return table\n",
    "    def ComputeWaitingDays(self):\n",
    "        if self.CompleteDate and self.CheckDate:\n",
    "            self.WaitingDays = self.CompleteDate-self.CheckDate\n",
    "        else: \n",
    "            return"
   ]
  },
  {
   "cell_type": "code",
   "execution_count": 4,
   "metadata": {
    "ExecuteTime": {
     "end_time": "2020-03-05T02:16:57.673108Z",
     "start_time": "2020-03-05T02:16:38.747206Z"
    }
   },
   "outputs": [
    {
     "name": "stdout",
     "output_type": "stream",
     "text": [
      "processing month 2020-01\n"
     ]
    }
   ],
   "source": [
    "#The struct of the data is organized in dictionary sorted by Months\n",
    "ApplicationofAll = {}\n",
    "for keys in AllPages.keys():\n",
    "    clear_output()\n",
    "    print(\"processing month\",keys)\n",
    "    #convert html page to beautifulsoup object\n",
    "    pagetmp = AllPages[keys]\n",
    "    soup = BeautifulSoup(pagetmp, 'html.parser')\n",
    "    #There are 8 tables in the html\n",
    "    #find the 6th table and extract it to be further analysised\n",
    "    table = soup.find_all(\"table\")\n",
    "    count = 0\n",
    "    for items in table:\n",
    "        if count == 6:\n",
    "            target = items\n",
    "            break\n",
    "        count+=1\n",
    "    #In this table, separated case by case except item 0\n",
    "    #item 0 contains the header of the table\n",
    "    #so item 0 is poped in the program\n",
    "    applications = target.find_all(\"tr\")\n",
    "    applications.pop(0)\n",
    "    CasesofMonth = []\n",
    "    for apps in applications:\n",
    "        SingleCase = apps.find_all(\"td\")\n",
    "        SingleCase.pop(0)\n",
    "        count = 0\n",
    "        for items in SingleCase:\n",
    "            #print(str(items)[4:-5])\n",
    "            if count == 0:\n",
    "                AppTmp = ApplicationCase(str(items)[4:-5])\n",
    "            elif count == 1:\n",
    "                AppTmp.VisaType = str(items)[4:-5]\n",
    "            elif count == 2:\n",
    "                AppTmp.VisaEntry = str(items)[4:-5]\n",
    "            elif count == 3:\n",
    "                AppTmp.Consulate = str(items)[4:-5]\n",
    "            elif count == 4:\n",
    "                AppTmp.Major = str(items)[4:-5]\n",
    "            elif count == 5:\n",
    "                AppTmp.Status = str(items)[4:-5]\n",
    "            elif count == 6:\n",
    "                AppTmp.CheckDate = str(items)[4:-5]\n",
    "            elif count == 7:\n",
    "                AppTmp.CompleteDate = str(items)[4:-5]\n",
    "            elif count == 8:\n",
    "                AppTmp.WaitingDays = str(items)[4:-5]\n",
    "            elif count == 9:\n",
    "                AppTmp.Comment = str(items)[74:-52]\n",
    "            count += 1\n",
    "        CasesofMonth.append(AppTmp)\n",
    "    ApplicationofAll[keys] = CasesofMonth\n",
    "#CasesofMonth[5].DebutPrint()\n",
    "#for items in CasesofMonth:\n",
    "#    CasesofMonth[5].DebutPrint()"
   ]
  },
  {
   "cell_type": "code",
   "execution_count": 5,
   "metadata": {
    "ExecuteTime": {
     "end_time": "2020-03-05T02:17:00.177352Z",
     "start_time": "2020-03-05T02:16:59.554567Z"
    }
   },
   "outputs": [],
   "source": [
    "#print(ApplicationofAll.keys())\n",
    "#test = ApplicationofAll['2014-10']\n",
    "APPLICATIONS_OF_ALL = []\n",
    "for keys in ApplicationofAll.keys():\n",
    "    for items in ApplicationofAll[keys]:\n",
    "        APPLICATIONS_OF_ALL.append(items.CasetoList())\n",
    "#Further processing to make times Date\n",
    "\n",
    "for items in APPLICATIONS_OF_ALL:\n",
    "    items[6] = datetime.strptime(items[6], '%Y-%m-%d')\n",
    "    if items[7] == \"0000-00-00\":\n",
    "        items[7] = None\n",
    "    else:\n",
    "        items[7] = datetime.strptime(items[7], '%Y-%m-%d')\n",
    "    if items[-1] == \"\":\n",
    "        items[-1] = None"
   ]
  },
  {
   "cell_type": "code",
   "execution_count": 7,
   "metadata": {
    "ExecuteTime": {
     "end_time": "2020-03-05T02:17:59.418647Z",
     "start_time": "2020-03-05T02:17:59.259697Z"
    }
   },
   "outputs": [],
   "source": [
    "#pickle a file to txt\n",
    "now = datetime.now()\n",
    "date_time = now.strftime(\"%m-%d-%Y_%H-%M\")\n",
    "filename = \"Final\" + date_time\n",
    "with open(filename+\".txt\", \"wb\") as fp:\n",
    "    pickle.dump(APPLICATIONS_OF_ALL, fp)"
   ]
  },
  {
   "cell_type": "code",
   "execution_count": 2,
   "metadata": {},
   "outputs": [],
   "source": [
    "#pickle from txt file to get data back\n",
    "#pickle is extremely efficient at storing data\n",
    "with open(\"Final03-11-2019_16-29.txt\", 'rb') as fp:\n",
    "    APPLICATIONS_OF_ALL=pickle.load(fp)"
   ]
  },
  {
   "cell_type": "code",
   "execution_count": 8,
   "metadata": {
    "ExecuteTime": {
     "end_time": "2020-03-05T02:18:10.546937Z",
     "start_time": "2020-03-05T02:18:10.543945Z"
    }
   },
   "outputs": [
    {
     "name": "stdout",
     "output_type": "stream",
     "text": [
      "['Kevin', 'J1', 'Renewal', 'BeiJing', 'Biochemistry', 'Clear', datetime.datetime(2008, 12, 1, 0, 0), datetime.datetime(2009, 3, 17, 0, 0), '106', None]\n"
     ]
    }
   ],
   "source": [
    "#for test\n",
    "print(APPLICATIONS_OF_ALL[2])\n",
    "#suppose to be ['Kevin', 'J1', 'Renewal', 'BeiJing', 'Biochemistry', 'Clear', datetime.datetime(2008, 12, 1, 0, 0), datetime.datetime(2009, 3, 17, 0, 0), '106', None]"
   ]
  },
  {
   "cell_type": "code",
   "execution_count": 9,
   "metadata": {
    "ExecuteTime": {
     "end_time": "2020-03-05T02:18:18.944526Z",
     "start_time": "2020-03-05T02:18:18.838550Z"
    }
   },
   "outputs": [],
   "source": [
    "def computeAVG(Table):\n",
    "    accumulate = 0\n",
    "    for items in Table:\n",
    "        accumulate += int(items[8])\n",
    "    return accumulate//len(Table)\n",
    "def computeMIN(Table):\n",
    "    MIN = 9999\n",
    "    for items in Table:\n",
    "        if int(items[8])<MIN:\n",
    "            MIN = int(items[8])\n",
    "    return MIN\n",
    "def computeMAX(Table):\n",
    "    MAX = 0\n",
    "    for items in Table:\n",
    "        if int(items[8])>MAX:\n",
    "            MAX = int(items[8])\n",
    "    return MAX\n",
    "\n",
    "# filehandle is a string of file name\n",
    "# suppose the file is already open\n",
    "# Case is the list of a single case\n",
    "def printCase(filehandle,Case):\n",
    "    filehandle.write(\"Case ID    : %s\\r\"%Case[0])\n",
    "    filehandle.write(\"VISA Typ   : %s %s\\r\" %(Case[1],Case[2]))\n",
    "    filehandle.write(\"Consular   : %s\\r\"%Case[3])\n",
    "    filehandle.write(\"Major in   : %s\\r\"%Case[4])\n",
    "    filehandle.write(\"Time : %d-%d-%d weekday %d to \" %(Case[6].year,Case[6].month,Case[6].day,Case[6].weekday()+1))\n",
    "    filehandle.write(\"%d-%d-%d weekday %d \\r\" %(Case[7].year,Case[7].month,Case[7].day,Case[7].weekday()+1))\n",
    "    filehandle.write(\"Length     : %s days\\r\"%Case[8])\n",
    "    filehandle.write(\"Status     : %s\\r\"%Case[5])\n",
    "    if Case[9] is not None:\n",
    "        filehandle.write(\"****************Comment*******************\\r%s\\r\"%Case[9])\n",
    "        filehandle.write(\"******************End*********************\\r\")\n",
    "    filehandle.write(\"--------------------------------------------\\r\\n\")\n",
    "\n",
    "#amount of unfinished case\n",
    "unfinishedcase = []\n",
    "finishedcase = []\n",
    "\n",
    "for items in APPLICATIONS_OF_ALL:\n",
    "    if items[7] is None:\n",
    "        unfinishedcase.append(items)\n",
    "    else:\n",
    "        finishedcase.append(items)\n",
    "\n",
    "rejectedcases = []\n",
    "clearedcases = []\n",
    "for items in APPLICATIONS_OF_ALL:\n",
    "    if items[5] == \"Clear\":\n",
    "        clearedcases.append(items)\n",
    "    elif items[5] == \"Reject\":\n",
    "        rejectedcases.append(items)\n",
    "        \n",
    "#reject per visa types\n",
    "rejectpervisatype = {}\n",
    "for items in rejectedcases:\n",
    "    if items[1] not in rejectpervisatype:\n",
    "        rejectpervisatype[items[1]] = [items]\n",
    "    else:\n",
    "        rejectpervisatype[items[1]].append(items)\n",
    "        \n",
    "        \n",
    "newcase = []\n",
    "renewalcase = []\n",
    "for items in APPLICATIONS_OF_ALL:\n",
    "    if items[2] == \"New\":\n",
    "        newcase.append(items)\n",
    "    elif items[2] == \"Renewal\":\n",
    "        renewalcase.append(items)\n",
    "        \n",
    "longcheck = []\n",
    "normalcheck = []\n",
    "for items in finishedcase:\n",
    "    if int(items[8]) >= 60:\n",
    "        longcheck.append(items)\n",
    "    else:\n",
    "        normalcheck.append(items)\n",
    "        \n",
    "longcheckpermonth = {}\n",
    "for items in longcheck:\n",
    "    month = items[6].year*100+items[6].month\n",
    "    if month in longcheckpermonth:\n",
    "        longcheckpermonth[month].append(items)\n",
    "    else:\n",
    "        longcheckpermonth[month] = [items]\n",
    "\n",
    "CasebyMon = {}\n",
    "for items in finishedcase:\n",
    "    month = items[6].year*100+items[6].month\n",
    "    if month in CasebyMon:\n",
    "        CasebyMon[month].append(items)\n",
    "    else:\n",
    "        CasebyMon[month] = [items]\n",
    "        \n",
    "#Apps per visa types\n",
    "APPperVisaType = {}\n",
    "for items in finishedcase:\n",
    "    if items[1] in APPperVisaType:\n",
    "        APPperVisaType[items[1]].append(items)\n",
    "    else:\n",
    "        APPperVisaType[items[1]] = [items]\n",
    "#Apps per consular\n",
    "APPperConsular = {}\n",
    "for items in finishedcase:\n",
    "    if items[3] in APPperConsular:\n",
    "        APPperConsular[items[3]].append(items)  \n",
    "    else:\n",
    "        APPperConsular[items[3]] = [items]\n",
    "        \n",
    "longcheckperconsular = {}\n",
    "rejectedperconsular = {}\n",
    "\n",
    "#longchecked case per consular\n",
    "for items in longcheck:\n",
    "    if items[3] in longcheckperconsular:\n",
    "        longcheckperconsular[items[3]].append(items)  \n",
    "    else:\n",
    "        longcheckperconsular[items[3]] = [items]\n",
    "\n",
    "#rejected case per consular\n",
    "for items in rejectedcases:\n",
    "    if items[3] in rejectedperconsular:\n",
    "        rejectedperconsular[items[3]].append(items)  \n",
    "    else:\n",
    "        rejectedperconsular[items[3]] = [items]\n",
    "        \n",
    "F1cases = APPperVisaType[\"F1\"]\n",
    "H1cases = APPperVisaType[\"H1\"]\n",
    "J1cases = APPperVisaType[\"J1\"]\n",
    "\n",
    "F1longcheck = []\n",
    "for items in F1cases:\n",
    "    if int(items[8])>=60:\n",
    "        F1longcheck.append(items)\n",
    "J1longcheck = []\n",
    "for items in J1cases:\n",
    "    if int(items[8])>=60:\n",
    "        J1longcheck.append(items)\n",
    "H1longcheck = []\n",
    "for items in H1cases:\n",
    "    if int(items[8])>=60:\n",
    "        H1longcheck.append(items)"
   ]
  },
  {
   "cell_type": "code",
   "execution_count": 10,
   "metadata": {
    "ExecuteTime": {
     "end_time": "2020-03-05T02:18:20.936874Z",
     "start_time": "2020-03-05T02:18:20.927875Z"
    }
   },
   "outputs": [],
   "source": [
    "f= codecs.open(\"dataprint_folder/AllrejectedCase.txt\",\"w+\", \"utf-8\")\n",
    "for items in rejectedcases:\n",
    "    printCase(f,items)\n",
    "f.close()"
   ]
  },
  {
   "cell_type": "code",
   "execution_count": 11,
   "metadata": {
    "ExecuteTime": {
     "end_time": "2020-03-05T02:18:25.422865Z",
     "start_time": "2020-03-05T02:18:25.401860Z"
    }
   },
   "outputs": [],
   "source": [
    "f= codecs.open(\"dataprint_folder/AllCommentsfromlongcheck.txt\",\"w+\", \"utf-8\")\n",
    "for items in longcheck:\n",
    "    if items[9] is not None:\n",
    "        printCase(f,items)\n",
    "f.close()"
   ]
  },
  {
   "cell_type": "code",
   "execution_count": 12,
   "metadata": {
    "ExecuteTime": {
     "end_time": "2020-03-05T02:18:27.265258Z",
     "start_time": "2020-03-05T02:18:27.246264Z"
    }
   },
   "outputs": [],
   "source": [
    "f= codecs.open(\"dataprint_folder/AllCommentsfromH1.txt\",\"w+\", \"utf-8\")\n",
    "for items in H1cases:\n",
    "    if items[9] is not None and int(items[8])>=40:\n",
    "        printCase(f,items)\n",
    "f.close()"
   ]
  },
  {
   "cell_type": "code",
   "execution_count": 13,
   "metadata": {
    "ExecuteTime": {
     "end_time": "2020-03-05T02:18:29.471577Z",
     "start_time": "2020-03-05T02:18:29.405566Z"
    }
   },
   "outputs": [],
   "source": [
    "f= codecs.open(\"dataprint_folder/AllCommentsfromF1.txt\",\"w+\", \"utf-8\")\n",
    "for items in F1cases:\n",
    "    if items[9] is not None and \"pdate\" in items[9]:\n",
    "        printCase(f,items)\n",
    "f.close()"
   ]
  },
  {
   "cell_type": "code",
   "execution_count": 14,
   "metadata": {
    "ExecuteTime": {
     "end_time": "2020-03-05T02:18:31.830864Z",
     "start_time": "2020-03-05T02:18:31.821867Z"
    }
   },
   "outputs": [
    {
     "name": "stdout",
     "output_type": "stream",
     "text": [
      "F1 finished cases num  : 11744\n",
      "J1 finished cases num  : 4974\n",
      "H1 finished cases num  : 5449\n",
      "F1 longcheck cases num : 858 ( % 0.07305858310626703 )\n",
      "J1 longcheck cases num : 451 ( % 0.09067149175713711 )\n",
      "H1 longcheck cases num : 608 ( % 0.1115801064415489 )\n",
      "F1 longcheck AVG       : 94\n",
      "J1 longcheck AVG       : 101\n",
      "H1 longcheck AVG       : 93\n"
     ]
    }
   ],
   "source": [
    "print(\"F1 finished cases num  :\",len(F1cases))\n",
    "print(\"J1 finished cases num  :\",len(J1cases))\n",
    "print(\"H1 finished cases num  :\",len(H1cases))\n",
    "print(\"F1 longcheck cases num :\",len(F1longcheck),\"( %\",len(F1longcheck)/len(F1cases),\")\")\n",
    "print(\"J1 longcheck cases num :\",len(J1longcheck),\"( %\",len(J1longcheck)/len(J1cases),\")\")\n",
    "print(\"H1 longcheck cases num :\",len(H1longcheck),\"( %\",len(H1longcheck)/len(H1cases),\")\")\n",
    "print(\"F1 longcheck AVG       :\",computeAVG(F1longcheck))\n",
    "print(\"J1 longcheck AVG       :\",computeAVG(J1longcheck))\n",
    "print(\"H1 longcheck AVG       :\",computeAVG(H1longcheck))"
   ]
  },
  {
   "cell_type": "markdown",
   "metadata": {},
   "source": [
    "## Use matplotlib to draw results in figure\n",
    "### 1. Finished Cases vs Unfinished Cases\n",
    "### 2. Long Checked Cases vs Normal Checked Cases\n",
    "### 3. Rejected Cases vs Cleared Cases\n",
    "### 4. Renewal Cases vs New Cases"
   ]
  },
  {
   "cell_type": "code",
   "execution_count": 15,
   "metadata": {
    "ExecuteTime": {
     "end_time": "2020-03-05T02:18:34.749979Z",
     "start_time": "2020-03-05T02:18:34.689997Z"
    }
   },
   "outputs": [
    {
     "name": "stdout",
     "output_type": "stream",
     "text": [
      "There are  27880 of finished case and  6234 unfinished case\n"
     ]
    },
    {
     "data": {
      "image/png": "[encoded data removed]",
      "text/plain": [
       "<Figure size 432x288 with 1 Axes>"
      ]
     },
     "metadata": {},
     "output_type": "display_data"
    }
   ],
   "source": [
    "print(\"There are \",len(finishedcase),\"of finished case and \",len(unfinishedcase),\"unfinished case\")\n",
    "labels = 'Finished Case', 'Unfinished Case'\n",
    "sizes = [len(finishedcase), len(unfinishedcase)]\n",
    "colors = ['yellowgreen','lightskyblue']\n",
    "plt.pie(sizes, labels=labels, colors=colors,autopct='%1.1f%%', shadow=True, startangle=140)\n",
    "plt.axis('equal')\n",
    "plt.show()"
   ]
  },
  {
   "cell_type": "code",
   "execution_count": 16,
   "metadata": {
    "ExecuteTime": {
     "end_time": "2020-03-05T02:18:36.395459Z",
     "start_time": "2020-03-05T02:18:36.338473Z"
    }
   },
   "outputs": [
    {
     "name": "stdout",
     "output_type": "stream",
     "text": [
      "There are  2515 of Long Checked case (>=60 days) and  25365 Normal Check Case\n",
      "Long check average time is : 94\n",
      "Normal Check AVG time is : 29\n"
     ]
    },
    {
     "data": {
      "image/png": "[encoded data removed]",
      "text/plain": [
       "<Figure size 432x288 with 1 Axes>"
      ]
     },
     "metadata": {},
     "output_type": "display_data"
    }
   ],
   "source": [
    "print(\"There are \",len(longcheck),\"of Long Checked case (>=60 days) and \",len(normalcheck),\"Normal Check Case\")\n",
    "print(\"Long check average time is :\",computeAVG(longcheck))\n",
    "print(\"Normal Check AVG time is :\", computeAVG(normalcheck))\n",
    "labels = 'Long check Case', 'Normal Check Case'\n",
    "sizes = [len(longcheck), len(normalcheck)]\n",
    "colors = ['yellowgreen','lightskyblue']\n",
    "plt.pie(sizes, labels=labels, colors=colors,autopct='%1.1f%%', shadow=True, startangle=140)\n",
    "plt.axis('equal')\n",
    "plt.show()"
   ]
  },
  {
   "cell_type": "code",
   "execution_count": 17,
   "metadata": {
    "ExecuteTime": {
     "end_time": "2020-03-05T02:18:38.108894Z",
     "start_time": "2020-03-05T02:18:38.040916Z"
    }
   },
   "outputs": [
    {
     "name": "stdout",
     "output_type": "stream",
     "text": [
      "There are  27656 of Cleared case and  224 Rejected case\n"
     ]
    },
    {
     "data": {
      "image/png": "[encoded data removed]",
      "text/plain": [
       "<Figure size 432x288 with 1 Axes>"
      ]
     },
     "metadata": {},
     "output_type": "display_data"
    }
   ],
   "source": [
    "print(\"There are \",len(clearedcases),\"of Cleared case and \",len(rejectedcases),\"Rejected case\")\n",
    "labels = 'Cleared Case', 'Rejected Case'\n",
    "sizes = [len(clearedcases), len(rejectedcases)]\n",
    "colors = ['yellowgreen','red']\n",
    "plt.pie(sizes, labels=labels, colors=colors,autopct='%1.1f%%', shadow=True, startangle=140)\n",
    "plt.axis('equal')\n",
    "plt.show()"
   ]
  },
  {
   "cell_type": "code",
   "execution_count": 18,
   "metadata": {
    "ExecuteTime": {
     "end_time": "2020-03-05T02:18:44.447496Z",
     "start_time": "2020-03-05T02:18:44.398515Z"
    }
   },
   "outputs": [
    {
     "name": "stdout",
     "output_type": "stream",
     "text": [
      "There are  22926 of New case and  11138 Renewal case\n"
     ]
    },
    {
     "data": {
      "image/png": "[encoded data removed]",
      "text/plain": [
       "<Figure size 432x288 with 1 Axes>"
      ]
     },
     "metadata": {},
     "output_type": "display_data"
    }
   ],
   "source": [
    "print(\"There are \",len(newcase),\"of New case and \",len(renewalcase),\"Renewal case\")\n",
    "labels = 'New Case', 'Renewal Case'\n",
    "sizes = [len(newcase), len(renewalcase)]\n",
    "colors = ['yellowgreen','red']\n",
    "plt.pie(sizes, labels=labels, colors=colors,autopct='%1.1f%%', shadow=True, startangle=140)\n",
    "plt.axis('equal')\n",
    "plt.show()"
   ]
  },
  {
   "cell_type": "markdown",
   "metadata": {},
   "source": [
    "### Application per VISA Type\n",
    "Saved to file : checkee.xlsx"
   ]
  },
  {
   "cell_type": "code",
   "execution_count": 19,
   "metadata": {
    "ExecuteTime": {
     "end_time": "2020-03-05T02:18:46.260898Z",
     "start_time": "2020-03-05T02:18:46.030972Z"
    }
   },
   "outputs": [],
   "source": [
    "#excel engine used is xlsxwriter, but somehow it keeps overwriting other sheets\n",
    "#So becarefu when used, better to use a tmp.xlsx file when you do the operation\n",
    "file = 'checkee.xlsx'\n",
    "xl = pd.ExcelFile(file)\n",
    "labels = list(APPperVisaType.keys())\n",
    "sizes = []\n",
    "for items in APPperVisaType:\n",
    "    sizes.append(len(APPperVisaType[items]))\n",
    "df1 = pd.DataFrame({'visatype': labels,'Sizes': sizes})\n",
    "writer = pd.ExcelWriter(file, engine='xlsxwriter')\n",
    "df1.to_excel(writer, 'Visatypes')\n",
    "\n",
    "writer.save()"
   ]
  },
  {
   "cell_type": "markdown",
   "metadata": {},
   "source": [
    "### Application per Consular\n",
    "Saved to file : checkee.xlsx"
   ]
  },
  {
   "cell_type": "code",
   "execution_count": 20,
   "metadata": {
    "ExecuteTime": {
     "end_time": "2020-03-05T02:18:47.997351Z",
     "start_time": "2020-03-05T02:18:47.945353Z"
    }
   },
   "outputs": [],
   "source": [
    "labels = list(APPperConsular.keys())\n",
    "sizes = []\n",
    "for items in APPperConsular:\n",
    "    sizes.append(len(APPperConsular[items]))\n",
    "df1 = pd.DataFrame({'Consular': labels,'Sizes': sizes})\n",
    "writer = pd.ExcelWriter(file, engine='xlsxwriter')\n",
    "df1.to_excel(writer, 'Consular')\n",
    "\n",
    "writer.save()"
   ]
  },
  {
   "cell_type": "code",
   "execution_count": 36,
   "metadata": {
    "ExecuteTime": {
     "end_time": "2020-03-05T02:53:32.684774Z",
     "start_time": "2020-03-05T02:53:32.486857Z"
    }
   },
   "outputs": [
    {
     "name": "stdout",
     "output_type": "stream",
     "text": [
      "Among all the cleared cases ( 27656 cases )\n",
      "The average clear time is  34 days\n"
     ]
    },
    {
     "data": {
      "text/plain": [
       "[<matplotlib.lines.Line2D at 0x288e4abaf88>]"
      ]
     },
     "execution_count": 36,
     "metadata": {},
     "output_type": "execute_result"
    },
    {
     "data": {
      "image/png": "[encoded data removed]",
      "text/plain": [
       "<Figure size 1440x360 with 1 Axes>"
      ]
     },
     "metadata": {
      "needs_background": "light"
     },
     "output_type": "display_data"
    }
   ],
   "source": [
    "#Average Checking time among cleared case\n",
    "waitingtime = []\n",
    "for items in clearedcases:\n",
    "    waitingtime.append(int(items[8]))\n",
    "\n",
    "average = sum(waitingtime)//len(waitingtime)\n",
    "print(\"Among all the cleared cases\",\"(\",len(waitingtime),\"cases )\")\n",
    "print(\"The average clear time is \", average, \"days\")\n",
    "\n",
    "#monthly average\n",
    "MonthsList = list(CasebyMon.keys())\n",
    "monthlyAVG = []\n",
    "for keys in CasebyMon.keys():\n",
    "    cur_mon = CasebyMon[keys]\n",
    "    monthlyAVG.append(computeAVG(cur_mon))\n",
    "plt.figure(figsize=(20,5))\n",
    "#plt.hist(monthlyAVG, bins=30, facecolor=\"blue\", edgecolor=\"black\", alpha=0.7)\n",
    "# print(monthlyAVG)\n",
    "# monthliststr = []\n",
    "# for items in MonthsList:\n",
    "#     monthliststr.append(str(items))\n",
    "plt.plot(monthlyAVG)\n",
    "# print(monthliststr)"
   ]
  },
  {
   "cell_type": "code",
   "execution_count": 57,
   "metadata": {
    "ExecuteTime": {
     "end_time": "2020-03-05T03:10:55.347329Z",
     "start_time": "2020-03-05T03:10:55.249361Z"
    }
   },
   "outputs": [
    {
     "name": "stdout",
     "output_type": "stream",
     "text": [
      "[200812, 200901, 200902, 200903, 200904, 200905, 200906, 200907, 200908, 200909, 200910, 200911, 200912, 201001, 201002, 201003, 201004, 201005, 201006, 201007, 201008, 201009, 201010, 201011, 201012, 201101, 201102, 201103, 201104, 201105, 201106, 201107, 201108, 201109, 201110, 201111, 201112, 201201, 201202, 201203, 201204, 201205, 201206, 201207, 201208, 201209, 201210, 201211, 201212, 201301, 201302, 201303, 201304, 201305, 201306, 201307, 201308, 201309, 201310, 201311, 201312, 201401, 201402, 201403, 201404, 201405, 201406, 201407, 201408, 201409, 201410, 201411, 201412, 201501, 201502, 201503, 201504, 201505, 201506, 201507, 201508, 201509, 201510, 201511, 201512, 201601, 201602, 201603, 201604, 201605, 201606, 201607, 201608, 201609, 201610, 201611, 201612, 201701, 201702, 201703, 201704, 201705, 201706, 201707, 201708, 201709, 201710, 201711, 201712, 201801, 201802, 201803, 201804, 201805, 201806, 201807, 201808, 201809, 201810, 201811, 201812, 201901, 201902, 201903, 201904, 201905, 201906, 201907, 201908, 201909, 201910, 201911, 201912, 202001]\n",
      "[97, 96, 69, 52, 40, 31, 28, 36, 40, 23, 20, 23, 30, 29, 33, 26, 30, 36, 36, 27, 32, 28, 35, 32, 35, 34, 26, 19, 21, 32, 26, 22, 22, 26, 22, 33, 23, 19, 20, 20, 26, 24, 30, 28, 24, 25, 24, 25, 22, 19, 31, 37, 43, 45, 54, 42, 38, 41, 31, 27, 20, 18, 30, 21, 25, 29, 36, 47, 60, 56, 34, 25, 29, 26, 26, 27, 31, 40, 40, 27, 27, 32, 25, 27, 23, 25, 27, 28, 24, 33, 25, 27, 27, 31, 32, 31, 34, 27, 23, 31, 30, 30, 35, 34, 31, 26, 26, 25, 27, 26, 29, 27, 33, 37, 33, 33, 32, 40, 41, 38, 38, 39, 40, 33, 41, 39, 39, 37, 26, 32, 37, 40, 26, 30]\n"
     ]
    },
    {
     "ename": "AttributeError",
     "evalue": "'list' object has no attribute 'shape'",
     "output_type": "error",
     "traceback": [
      "\u001b[1;31m---------------------------------------------------------------------------\u001b[0m",
      "\u001b[1;31mAttributeError\u001b[0m                            Traceback (most recent call last)",
      "\u001b[1;32m<ipython-input-57-2b3838323d05>\u001b[0m in \u001b[0;36m<module>\u001b[1;34m\u001b[0m\n\u001b[0;32m      1\u001b[0m \u001b[0mprint\u001b[0m\u001b[1;33m(\u001b[0m\u001b[0mMonthsList\u001b[0m\u001b[1;33m)\u001b[0m\u001b[1;33m\u001b[0m\u001b[1;33m\u001b[0m\u001b[0m\n\u001b[0;32m      2\u001b[0m \u001b[0mprint\u001b[0m\u001b[1;33m(\u001b[0m\u001b[0mmonthlyAVG\u001b[0m\u001b[1;33m)\u001b[0m\u001b[1;33m\u001b[0m\u001b[1;33m\u001b[0m\u001b[0m\n\u001b[1;32m----> 3\u001b[1;33m \u001b[0mMonthsList\u001b[0m\u001b[1;33m.\u001b[0m\u001b[0mshape\u001b[0m\u001b[1;33m\u001b[0m\u001b[1;33m\u001b[0m\u001b[0m\n\u001b[0m",
      "\u001b[1;31mAttributeError\u001b[0m: 'list' object has no attribute 'shape'"
     ]
    }
   ],
   "source": [
    "print(MonthsList)\n",
    "print(monthlyAVG)\n"
   ]
  },
  {
   "cell_type": "code",
   "execution_count": 37,
   "metadata": {
    "ExecuteTime": {
     "end_time": "2020-03-05T02:53:37.831494Z",
     "start_time": "2020-03-05T02:53:37.781500Z"
    }
   },
   "outputs": [],
   "source": [
    "#monthly average\n",
    "longcheckmonthlist = list(longcheckpermonth.keys())\n",
    "longcheckmonthAVG = []\n",
    "longcheckmonthMIN = []\n",
    "longcheckmonthMAX = []\n",
    "longcheckmonthcasenum = []\n",
    "\n",
    "for keys in longcheckpermonth.keys():\n",
    "    cur_mon = longcheckpermonth[keys]\n",
    "    longcheckmonthAVG.append(computeAVG(cur_mon))\n",
    "    longcheckmonthMIN.append(computeMIN(cur_mon))\n",
    "    longcheckmonthMAX.append(computeMAX(cur_mon))\n",
    "    longcheckmonthcasenum.append(len(cur_mon))\n",
    "    \n",
    "df1 = pd.DataFrame({'month': longcheckmonthlist,'avg time': longcheckmonthAVG,'MIN time': longcheckmonthMIN,'MAX time': longcheckmonthMAX,'monthly case num': longcheckmonthcasenum})\n",
    "writer = pd.ExcelWriter(file, engine='xlsxwriter')\n",
    "df1.to_excel(writer, 'long check avg time')\n",
    "\n",
    "writer.save()"
   ]
  },
  {
   "cell_type": "code",
   "execution_count": 23,
   "metadata": {
    "ExecuteTime": {
     "end_time": "2020-03-05T02:18:54.173635Z",
     "start_time": "2020-03-05T02:18:54.169637Z"
    }
   },
   "outputs": [
    {
     "name": "stdout",
     "output_type": "stream",
     "text": [
      "[['oldboy', 'J1', 'New', 'BeiJing', 'CS', 'Clear', datetime.datetime(2012, 6, 1, 0, 0), datetime.datetime(2013, 5, 14, 0, 0), '347', None], ['Whatever', 'F1', 'Renewal', 'BeiJing', 'CS', 'Clear', datetime.datetime(2012, 6, 29, 0, 0), datetime.datetime(2013, 5, 28, 0, 0), '333', \"ave waited for more than five months and still have no response. For God's sake! \\r\\nUpdate---it took me a year to get the clearance. Think twice before you go back!\"]]\n"
     ]
    }
   ],
   "source": [
    "print(longcheckpermonth[201206])"
   ]
  },
  {
   "cell_type": "code",
   "execution_count": 24,
   "metadata": {
    "ExecuteTime": {
     "end_time": "2020-03-05T02:18:56.739827Z",
     "start_time": "2020-03-05T02:18:56.687837Z"
    }
   },
   "outputs": [
    {
     "name": "stdout",
     "output_type": "stream",
     "text": [
      "['BeiJing', 'ChengDu', 'ShangHai', 'GuangZhou', 'ShenYang', 'Europe']\n",
      "[125, 15, 39, 26, 12, 1]\n",
      "[1061, 167, 675, 176, 123, 63]\n",
      "[12302, 1695, 8247, 2540, 1081, 436]\n"
     ]
    }
   ],
   "source": [
    "#APPperConsular\n",
    "#longcheckperconsular\n",
    "#rejectedperconsular\n",
    "interestedconsular = ['BeiJing', 'ChengDu', 'ShangHai', 'GuangZhou', 'ShenYang', 'Europe']\n",
    "consular_reject_num = []\n",
    "consular_longcheck_num = []\n",
    "consular_overall_case = []\n",
    "for items in interestedconsular:\n",
    "    consular_reject_num.append(len(rejectedperconsular[items]))\n",
    "    consular_longcheck_num.append(len(longcheckperconsular[items]))\n",
    "    consular_overall_case.append(len(APPperConsular[items]))\n",
    "file = 'checkee.xlsx'\n",
    "df1 = pd.DataFrame({'consular': interestedconsular,'overall case': consular_overall_case,'reject case': consular_reject_num,'long check case': consular_longcheck_num})\n",
    "writer = pd.ExcelWriter(file, engine='xlsxwriter')\n",
    "df1.to_excel(writer, 'consular summary')\n",
    "writer.save()\n",
    "    \n",
    "print(interestedconsular)\n",
    "print(consular_reject_num)\n",
    "print(consular_longcheck_num)\n",
    "print(consular_overall_case)"
   ]
  },
  {
   "cell_type": "code",
   "execution_count": 53,
   "metadata": {
    "ExecuteTime": {
     "end_time": "2020-03-05T03:05:57.346593Z",
     "start_time": "2020-03-05T03:05:55.290254Z"
    }
   },
   "outputs": [
    {
     "data": {
      "text/plain": [
       "Text(0.5, 1.0, 'All Check Cases')"
      ]
     },
     "execution_count": 53,
     "metadata": {},
     "output_type": "execute_result"
    },
    {
     "data": {
      "image/png": "[encoded data removed]",
      "text/plain": [
       "<Figure size 1440x720 with 2 Axes>"
      ]
     },
     "metadata": {
      "needs_background": "light"
     },
     "output_type": "display_data"
    }
   ],
   "source": [
    "# plot histogram of the checking case and longcheck case\n",
    "#finishedcase\n",
    "#longcheck\n",
    "checkdate = []\n",
    "longcheckdate = []\n",
    "\n",
    "for items in finishedcase:\n",
    "    if(int(items[8])>0 and int(items[8])<200 ):\n",
    "        checkdate.append(int(items[8]))\n",
    "for items in longcheck:\n",
    "    if(int(items[8])>0 and int(items[8])<300 ):\n",
    "        longcheckdate.append(int(items[8]))\n",
    "plt.figure(figsize=(20,10))\n",
    "plt.subplot(211)\n",
    "n, bins, patches = plt.hist(longcheckdate, 600, facecolor='g', alpha=0.75)\n",
    "plt.title(\"Long Check\")\n",
    "plt.subplot(212)\n",
    "n, bins, patches = plt.hist(checkdate, 600, facecolor='r', alpha=0.75)\n",
    "plt.title(\"All Check Cases\")"
   ]
  },
  {
   "cell_type": "code",
   "execution_count": 41,
   "metadata": {
    "ExecuteTime": {
     "end_time": "2020-03-05T02:58:01.587514Z",
     "start_time": "2020-03-05T02:58:01.012719Z"
    }
   },
   "outputs": [
    {
     "data": {
      "image/png": "[encoded data removed]",
      "text/plain": [
       "<Figure size 1440x360 with 1 Axes>"
      ]
     },
     "metadata": {
      "needs_background": "light"
     },
     "output_type": "display_data"
    }
   ],
   "source": [
    "plt.figure(figsize=(20,5))\n",
    "n, bins, patches = plt.hist(checkdate, 300, density=True, facecolor='r', alpha=0.75)"
   ]
  },
  {
   "cell_type": "code",
   "execution_count": 27,
   "metadata": {
    "ExecuteTime": {
     "end_time": "2020-03-05T02:19:03.685577Z",
     "start_time": "2020-03-05T02:19:03.680593Z"
    }
   },
   "outputs": [
    {
     "name": "stdout",
     "output_type": "stream",
     "text": [
      "dict_keys(['F1', 'J1', 'B2', 'B1', 'L2', 'H1', 'F2', 'L1', 'H4', 'J2'])\n",
      "[101, 47, 22, 29, 2, 12, 3, 3, 3, 2]\n"
     ]
    }
   ],
   "source": [
    "#print(rejectpervisatype[\"H1\"])\n",
    "print(rejectpervisatype.keys())\n",
    "num_sum = []\n",
    "for keys in rejectpervisatype:\n",
    "    num_sum.append(len(rejectpervisatype[keys]))\n",
    "print(num_sum)"
   ]
  },
  {
   "cell_type": "code",
   "execution_count": 28,
   "metadata": {
    "ExecuteTime": {
     "end_time": "2020-03-05T02:19:05.385045Z",
     "start_time": "2020-03-05T02:19:05.379043Z"
    }
   },
   "outputs": [],
   "source": [
    "f= codecs.open(\"dataprint_folder/H1rejected.txt\",\"w+\", \"utf-8\")\n",
    "for items in rejectpervisatype[\"H1\"]:\n",
    "    printCase(f,items)\n",
    "f.close()"
   ]
  },
  {
   "cell_type": "code",
   "execution_count": null,
   "metadata": {},
   "outputs": [],
   "source": []
  }
 ],
 "metadata": {
  "kernelspec": {
   "display_name": "Python 3",
   "language": "python",
   "name": "python3"
  },
  "language_info": {
   "codemirror_mode": {
    "name": "ipython",
    "version": 3
   },
   "file_extension": ".py",
   "mimetype": "text/x-python",
   "name": "python",
   "nbconvert_exporter": "python",
   "pygments_lexer": "ipython3",
   "version": "3.7.4"
  },
  "toc": {
   "base_numbering": 1,
   "nav_menu": {},
   "number_sections": true,
   "sideBar": true,
   "skip_h1_title": false,
   "title_cell": "Table of Contents",
   "title_sidebar": "Contents",
   "toc_cell": false,
   "toc_position": {},
   "toc_section_display": true,
   "toc_window_display": false
  },
  "varInspector": {
   "cols": {
    "lenName": 16,
    "lenType": 16,
    "lenVar": 40
   },
   "kernels_config": {
    "python": {
     "delete_cmd_postfix": "",
     "delete_cmd_prefix": "del ",
     "library": "var_list.py",
     "varRefreshCmd": "print(var_dic_list())"
    },
    "r": {
     "delete_cmd_postfix": ") ",
     "delete_cmd_prefix": "rm(",
     "library": "var_list.r",
     "varRefreshCmd": "cat(var_dic_list()) "
    }
   },
   "types_to_exclude": [
    "module",
    "function",
    "builtin_function_or_method",
    "instance",
    "_Feature"
   ],
   "window_display": false
  }
 },
 "nbformat": 4,
 "nbformat_minor": 2
}
