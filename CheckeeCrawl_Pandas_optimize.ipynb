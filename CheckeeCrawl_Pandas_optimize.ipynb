{
 "cells": [
  {
   "cell_type": "code",
   "execution_count": 1,
   "metadata": {
    "ExecuteTime": {
     "end_time": "2020-03-05T02:01:15.575742Z",
     "start_time": "2020-03-05T02:01:14.736013Z"
    }
   },
   "outputs": [],
   "source": [
    "from bs4 import BeautifulSoup\n",
    "from datetime import datetime\n",
    "import requests\n",
    "from IPython.display import clear_output\n",
    "import time\n",
    "import webbrowser\n",
    "import numpy as np\n",
    "import unicodedata\n",
    "import pickle\n",
    "import pandas as pd\n",
    "import codecs\n",
    "import matplotlib.pyplot as plt\n",
    "\n",
    "#Function to create time list\n",
    "def ListofTime_generator(StartYear,StartMon,EndYear,EndMon):\n",
    "    ListofTime = []\n",
    "    while(StartYear!=EndYear or StartMon!=EndMon):\n",
    "        ListofTime.append(str(StartYear) + \"-\" + str(StartMon).zfill(2))\n",
    "        if StartMon == 12:\n",
    "            StartYear += 1\n",
    "            StartMon = 1\n",
    "        else:\n",
    "            StartMon += 1\n",
    "    ListofTime.append(str(EndYear) + \"-\" + str(EndMon).zfill(2))\n",
    "    return ListofTime\n",
    "\n",
    "def HTMLrequest(ListofTime):\n",
    "    #ListofTime = [] #200812 - 201903\n",
    "    LinkHeader = \"https://www.checkee.info/main.php?dispdate=\"\n",
    "    AllPages = {}\n",
    "    len_month = len(ListofTime)\n",
    "    start_time = time.time()\n",
    "    count = 1\n",
    "    for months in ListofTime:\n",
    "        clear_output()\n",
    "        cur_time = time.time()\n",
    "        print(\"requesting from \" + LinkHeader + months)\n",
    "        print(\"Progress: \",count,\"/\",len_month)\n",
    "        print(\"time elapsed:\",int(cur_time-start_time),\"seconds\")\n",
    "        estimation = (cur_time-start_time)/count*(len_month-count)/60\n",
    "        print(\"Estimate Time Left: %5.2f Minutes\" % (estimation))\n",
    "        session = requests.Session()\n",
    "        page = session.get(LinkHeader + months, headers={'User-Agent': 'Mozilla/5.0'})\n",
    "        AllPages[months] = page.content.decode(\"utf-8\",\"ignore\")\n",
    "        count += 1\n",
    "    return AllPages\n",
    "\n",
    "#use strtmp for develope\n",
    "class ApplicationCase():\n",
    "    def __init__(self, ID):\n",
    "        self.ID = ID\n",
    "        self.VisaType = None\n",
    "        self.VisaEntry = None\n",
    "        self.Consulate = None\n",
    "        self.Major = None\n",
    "        self.CheckDate = None\n",
    "        self.CompleteDate = None\n",
    "        self.WaitingDays = None\n",
    "        self.Comment = None\n",
    "        self.Status = None\n",
    "\n",
    "    def DebugPrint(self):\n",
    "        if self.CompleteDate:\n",
    "            print(\"----   This case is completed   ----\")\n",
    "        else:\n",
    "            print(\"**** This case is not completed ****\")\n",
    "        print(\"ID            :\",self.ID)\n",
    "        print(\"Visa Type     :\",self.VisaType)\n",
    "        print(\"Visa Entry    :\",self.VisaEntry)\n",
    "        print(\"Consulate     :\",self.Consulate)\n",
    "        print(\"Major         :\",self.Major)\n",
    "        print(\"Status        :\",self.Status)\n",
    "        print(\"Check Date    :\",self.CheckDate)\n",
    "        print(\"Complete Date :\",self.CompleteDate)\n",
    "        print(\"Waiting Days  :\",self.WaitingDays)\n",
    "        print(\"Comment       :\",self.Comment)\n",
    "    def CasetoList(self):\n",
    "        table = [self.ID,self.VisaType,self.VisaEntry,self.Consulate,self.Major,self.Status,self.CheckDate,self.CompleteDate,self.WaitingDays,self.Comment]\n",
    "        return table\n",
    "    def ComputeWaitingDays(self):\n",
    "        if self.CompleteDate and self.CheckDate:\n",
    "            self.WaitingDays = self.CompleteDate-self.CheckDate\n",
    "        else: \n",
    "            return\n",
    "\n",
    "#The struct of the data is organized in dictionary sorted by Months\n",
    "#Return a list of applications\n",
    "def ExtractDatafromHTML(AllPages):\n",
    "    ApplicationofAll = {}\n",
    "    for keys in AllPages.keys():\n",
    "        clear_output()\n",
    "        print(\"processing month\",keys)\n",
    "        #convert html page to beautifulsoup object\n",
    "        pagetmp = AllPages[keys]\n",
    "        soup = BeautifulSoup(pagetmp, 'html.parser')\n",
    "        #There are 8 tables in the html\n",
    "        #find the 6th table and extract it to be further analysised\n",
    "        table = soup.find_all(\"table\")\n",
    "        count = 0\n",
    "        for items in table:\n",
    "            if count == 6:\n",
    "                target = items\n",
    "                break\n",
    "            count+=1\n",
    "        #In this table, separated case by case except item 0\n",
    "        #item 0 contains the header of the table\n",
    "        #so item 0 is poped in the program\n",
    "        applications = target.find_all(\"tr\")\n",
    "        applications.pop(0)\n",
    "        CasesofMonth = []\n",
    "        for apps in applications:\n",
    "            SingleCase = apps.find_all(\"td\")\n",
    "            SingleCase.pop(0)\n",
    "            count = 0\n",
    "            for items in SingleCase:\n",
    "                #print(str(items)[4:-5])\n",
    "                if count == 0:\n",
    "                    AppTmp = ApplicationCase(str(items)[4:-5])\n",
    "                elif count == 1:\n",
    "                    AppTmp.VisaType = str(items)[4:-5]\n",
    "                elif count == 2:\n",
    "                    AppTmp.VisaEntry = str(items)[4:-5]\n",
    "                elif count == 3:\n",
    "                    AppTmp.Consulate = str(items)[4:-5]\n",
    "                elif count == 4:\n",
    "                    AppTmp.Major = str(items)[4:-5]\n",
    "                elif count == 5:\n",
    "                    AppTmp.Status = str(items)[4:-5]\n",
    "                elif count == 6:\n",
    "                    AppTmp.CheckDate = str(items)[4:-5]\n",
    "                elif count == 7:\n",
    "                    AppTmp.CompleteDate = str(items)[4:-5]\n",
    "                elif count == 8:\n",
    "                    AppTmp.WaitingDays = int(str(items)[4:-5])\n",
    "                elif count == 9:\n",
    "                    AppTmp.Comment = str(items)[74:-52]\n",
    "                count += 1\n",
    "            CasesofMonth.append(AppTmp)\n",
    "        ApplicationofAll[keys] = CasesofMonth\n",
    "\n",
    "    #converting dictionary to list\n",
    "    APPLICATIONS_OF_ALL = []\n",
    "    for keys in ApplicationofAll.keys():\n",
    "        for items in ApplicationofAll[keys]:\n",
    "            APPLICATIONS_OF_ALL.append(items.CasetoList())\n",
    "    for items in APPLICATIONS_OF_ALL:\n",
    "        items[6] = datetime.strptime(items[6], '%Y-%m-%d')\n",
    "        if items[7] == \"0000-00-00\":\n",
    "            items[7] = None\n",
    "        else:\n",
    "            items[7] = datetime.strptime(items[7], '%Y-%m-%d')\n",
    "        if items[-1] == \"\":\n",
    "            items[-1] = None\n",
    "    return APPLICATIONS_OF_ALL\n",
    "\n",
    "#converting list of applications to pandas data frame\n",
    "def ListtoPandasFrame(APPLICATIONS_OF_ALL):\n",
    "    #APPLICATIONS_OF_ALL to pandas data frame\n",
    "    tabs = [\"ID\",\"VisaType\",\"VisaEntry\",\"Consulate\",\"Major\",\"Status\",\"CheckDate\",\"CompleteDate\",\"WaitingDays\",\"Comments\"]\n",
    "    ApplicationFrame = pd.DataFrame(APPLICATIONS_OF_ALL,columns=tabs)\n",
    "    return ApplicationFrame"
   ]
  },
  {
   "cell_type": "code",
   "execution_count": 2,
   "metadata": {
    "ExecuteTime": {
     "end_time": "2020-03-05T02:01:15.591731Z",
     "start_time": "2020-03-05T02:01:15.588727Z"
    }
   },
   "outputs": [],
   "source": [
    "#print(ListofTime)"
   ]
  },
  {
   "cell_type": "code",
   "execution_count": 3,
   "metadata": {
    "ExecuteTime": {
     "end_time": "2020-03-05T02:09:34.784877Z",
     "start_time": "2020-03-05T02:01:25.654474Z"
    }
   },
   "outputs": [
    {
     "name": "stdout",
     "output_type": "stream",
     "text": [
      "processing month 2020-02\n"
     ]
    }
   ],
   "source": [
    "StartYear,StartMon,EndYear,EndMon = 2008,12,2020,2\n",
    "#flag for processing, if flag==1, download from online and save it to csv\n",
    "#if flag==2, load data from csv file\n",
    "flag = 1\n",
    "if flag == 1:\n",
    "    ListofTime = ListofTime_generator(StartYear,StartMon,EndYear,EndMon)\n",
    "    AllPages = HTMLrequest(ListofTime)\n",
    "    APPLICATIONS_OF_ALL = ExtractDatafromHTML(AllPages)\n",
    "    ApplicationFrame = ListtoPandasFrame(APPLICATIONS_OF_ALL)\n",
    "    ApplicationFrame.to_csv(\"./database/PandasApplicationData.csv\", index = False, sep=',', encoding='utf-8')\n",
    "elif flag == 2:\n",
    "    ApplicationFrame = pd.read_csv(\"./database/PandasApplicationData.csv\")"
   ]
  },
  {
   "cell_type": "code",
   "execution_count": 4,
   "metadata": {
    "ExecuteTime": {
     "end_time": "2020-03-05T02:09:37.992115Z",
     "start_time": "2020-03-05T02:09:37.891147Z"
    },
    "scrolled": false
   },
   "outputs": [
    {
     "data": {
      "text/html": [
       "<div>\n",
       "<style scoped>\n",
       "    .dataframe tbody tr th:only-of-type {\n",
       "        vertical-align: middle;\n",
       "    }\n",
       "\n",
       "    .dataframe tbody tr th {\n",
       "        vertical-align: top;\n",
       "    }\n",
       "\n",
       "    .dataframe thead th {\n",
       "        text-align: right;\n",
       "    }\n",
       "</style>\n",
       "<table border=\"1\" class=\"dataframe\">\n",
       "  <thead>\n",
       "    <tr style=\"text-align: right;\">\n",
       "      <th></th>\n",
       "      <th>ID</th>\n",
       "      <th>VisaType</th>\n",
       "      <th>VisaEntry</th>\n",
       "      <th>Consulate</th>\n",
       "      <th>Major</th>\n",
       "      <th>Status</th>\n",
       "      <th>CheckDate</th>\n",
       "      <th>CompleteDate</th>\n",
       "      <th>WaitingDays</th>\n",
       "      <th>Comments</th>\n",
       "    </tr>\n",
       "  </thead>\n",
       "  <tbody>\n",
       "    <tr>\n",
       "      <td>0</td>\n",
       "      <td>dolong</td>\n",
       "      <td>H4</td>\n",
       "      <td>New</td>\n",
       "      <td>Others</td>\n",
       "      <td>Chemistry</td>\n",
       "      <td>Clear</td>\n",
       "      <td>2008-12-01</td>\n",
       "      <td>2009-03-17</td>\n",
       "      <td>106</td>\n",
       "      <td>None</td>\n",
       "    </tr>\n",
       "    <tr>\n",
       "      <td>1</td>\n",
       "      <td>piglet</td>\n",
       "      <td>J2</td>\n",
       "      <td></td>\n",
       "      <td>BeiJing</td>\n",
       "      <td>CS</td>\n",
       "      <td>Clear</td>\n",
       "      <td>2008-12-01</td>\n",
       "      <td>2009-03-13</td>\n",
       "      <td>102</td>\n",
       "      <td>None</td>\n",
       "    </tr>\n",
       "    <tr>\n",
       "      <td>2</td>\n",
       "      <td>Kevin</td>\n",
       "      <td>J1</td>\n",
       "      <td>Renewal</td>\n",
       "      <td>BeiJing</td>\n",
       "      <td>Biochemistry</td>\n",
       "      <td>Clear</td>\n",
       "      <td>2008-12-01</td>\n",
       "      <td>2009-03-17</td>\n",
       "      <td>106</td>\n",
       "      <td>None</td>\n",
       "    </tr>\n",
       "    <tr>\n",
       "      <td>3</td>\n",
       "      <td>jzl</td>\n",
       "      <td>H1</td>\n",
       "      <td>Renewal</td>\n",
       "      <td>BeiJing</td>\n",
       "      <td>Materials Science</td>\n",
       "      <td>Clear</td>\n",
       "      <td>2008-12-02</td>\n",
       "      <td>2009-03-19</td>\n",
       "      <td>107</td>\n",
       "      <td>None</td>\n",
       "    </tr>\n",
       "    <tr>\n",
       "      <td>4</td>\n",
       "      <td>heartlake</td>\n",
       "      <td>H1</td>\n",
       "      <td>Renewal</td>\n",
       "      <td>BeiJing</td>\n",
       "      <td>Neuroscience</td>\n",
       "      <td>Clear</td>\n",
       "      <td>2008-12-02</td>\n",
       "      <td>2009-03-17</td>\n",
       "      <td>105</td>\n",
       "      <td>None</td>\n",
       "    </tr>\n",
       "    <tr>\n",
       "      <td>...</td>\n",
       "      <td>...</td>\n",
       "      <td>...</td>\n",
       "      <td>...</td>\n",
       "      <td>...</td>\n",
       "      <td>...</td>\n",
       "      <td>...</td>\n",
       "      <td>...</td>\n",
       "      <td>...</td>\n",
       "      <td>...</td>\n",
       "      <td>...</td>\n",
       "    </tr>\n",
       "    <tr>\n",
       "      <td>33282</td>\n",
       "      <td>心虚</td>\n",
       "      <td>B1</td>\n",
       "      <td>Renewal</td>\n",
       "      <td>Others</td>\n",
       "      <td>Physic</td>\n",
       "      <td>Clear</td>\n",
       "      <td>2019-11-15</td>\n",
       "      <td>2020-12-20</td>\n",
       "      <td>401</td>\n",
       "      <td>None</td>\n",
       "    </tr>\n",
       "    <tr>\n",
       "      <td>33339</td>\n",
       "      <td>摇摇</td>\n",
       "      <td>B2</td>\n",
       "      <td>New</td>\n",
       "      <td>Toronto</td>\n",
       "      <td>Information and Communica</td>\n",
       "      <td>Clear</td>\n",
       "      <td>2019-11-20</td>\n",
       "      <td>2020-02-21</td>\n",
       "      <td>93</td>\n",
       "      <td>Case Created:\\t        19-Nov-2019\\r\\nCase Las...</td>\n",
       "    </tr>\n",
       "    <tr>\n",
       "      <td>33344</td>\n",
       "      <td>EMMAYXE</td>\n",
       "      <td>H4</td>\n",
       "      <td>New</td>\n",
       "      <td>ShangHai</td>\n",
       "      <td>Material Science &amp;amp; Engine</td>\n",
       "      <td>Clear</td>\n",
       "      <td>2019-11-21</td>\n",
       "      <td>2020-01-23</td>\n",
       "      <td>63</td>\n",
       "      <td>1/8/2020: 1st update, 当天使馆邮件告知AP Complete。。超级开...</td>\n",
       "    </tr>\n",
       "    <tr>\n",
       "      <td>33862</td>\n",
       "      <td>bless</td>\n",
       "      <td>H4</td>\n",
       "      <td>New</td>\n",
       "      <td>BeiJing</td>\n",
       "      <td>Physical Chemistry</td>\n",
       "      <td>Clear</td>\n",
       "      <td>2019-12-27</td>\n",
       "      <td>2020-03-04</td>\n",
       "      <td>68</td>\n",
       "      <td>Dec. 27, 2019, first update\\r\\nJan. 22, 2019, ...</td>\n",
       "    </tr>\n",
       "    <tr>\n",
       "      <td>33918</td>\n",
       "      <td>Vivian</td>\n",
       "      <td>F2</td>\n",
       "      <td>New</td>\n",
       "      <td>BeiJing</td>\n",
       "      <td>Chemistry</td>\n",
       "      <td>Clear</td>\n",
       "      <td>2020-01-02</td>\n",
       "      <td>2020-03-03</td>\n",
       "      <td>61</td>\n",
       "      <td>1.2 北京 面签\\r\\n2.28update\\r\\n3.3 issue\\r\\n有豁免</td>\n",
       "    </tr>\n",
       "  </tbody>\n",
       "</table>\n",
       "<p>2399 rows × 10 columns</p>\n",
       "</div>"
      ],
      "text/plain": [
       "              ID VisaType VisaEntry Consulate                          Major  \\\n",
       "0         dolong       H4       New    Others                      Chemistry   \n",
       "1         piglet       J2             BeiJing                             CS   \n",
       "2          Kevin       J1   Renewal   BeiJing                   Biochemistry   \n",
       "3            jzl       H1   Renewal   BeiJing              Materials Science   \n",
       "4      heartlake       H1   Renewal   BeiJing                   Neuroscience   \n",
       "...          ...      ...       ...       ...                            ...   \n",
       "33282         心虚       B1   Renewal    Others                         Physic   \n",
       "33339         摇摇       B2       New   Toronto      Information and Communica   \n",
       "33344    EMMAYXE       H4       New  ShangHai  Material Science &amp; Engine   \n",
       "33862      bless       H4       New   BeiJing             Physical Chemistry   \n",
       "33918     Vivian       F2       New   BeiJing                      Chemistry   \n",
       "\n",
       "      Status  CheckDate CompleteDate  WaitingDays  \\\n",
       "0      Clear 2008-12-01   2009-03-17          106   \n",
       "1      Clear 2008-12-01   2009-03-13          102   \n",
       "2      Clear 2008-12-01   2009-03-17          106   \n",
       "3      Clear 2008-12-02   2009-03-19          107   \n",
       "4      Clear 2008-12-02   2009-03-17          105   \n",
       "...      ...        ...          ...          ...   \n",
       "33282  Clear 2019-11-15   2020-12-20          401   \n",
       "33339  Clear 2019-11-20   2020-02-21           93   \n",
       "33344  Clear 2019-11-21   2020-01-23           63   \n",
       "33862  Clear 2019-12-27   2020-03-04           68   \n",
       "33918  Clear 2020-01-02   2020-03-03           61   \n",
       "\n",
       "                                                Comments  \n",
       "0                                                   None  \n",
       "1                                                   None  \n",
       "2                                                   None  \n",
       "3                                                   None  \n",
       "4                                                   None  \n",
       "...                                                  ...  \n",
       "33282                                               None  \n",
       "33339  Case Created:\\t        19-Nov-2019\\r\\nCase Las...  \n",
       "33344  1/8/2020: 1st update, 当天使馆邮件告知AP Complete。。超级开...  \n",
       "33862  Dec. 27, 2019, first update\\r\\nJan. 22, 2019, ...  \n",
       "33918        1.2 北京 面签\\r\\n2.28update\\r\\n3.3 issue\\r\\n有豁免  \n",
       "\n",
       "[2399 rows x 10 columns]"
      ]
     },
     "execution_count": 4,
     "metadata": {},
     "output_type": "execute_result"
    }
   ],
   "source": [
    "#ApplicationFrame.drop(na(subset = [\"CompleteDate\"]))\n",
    "FinishedAppsFrame = ApplicationFrame[ApplicationFrame.Status == \"Clear\"]\n",
    "LongCheckAppsFrame = FinishedAppsFrame[FinishedAppsFrame.WaitingDays >=60 ]\n",
    "FAppsFrame = FinishedAppsFrame[FinishedAppsFrame.VisaType.str.slice(stop=1) == \"F\"]\n",
    "HAppsFrame = FinishedAppsFrame[FinishedAppsFrame.VisaType.str.slice(stop=1) == \"H\"]\n",
    "JAppsFrame = FinishedAppsFrame[FinishedAppsFrame.VisaType.str.slice(stop=1) == \"J\"]\n",
    "BAppsFrame = FinishedAppsFrame[FinishedAppsFrame.VisaType.str.slice(stop=1) == \"B\"]\n",
    "LongCheckAppsFrame"
   ]
  },
  {
   "cell_type": "code",
   "execution_count": 6,
   "metadata": {
    "ExecuteTime": {
     "end_time": "2020-03-05T02:09:44.399056Z",
     "start_time": "2020-03-05T02:09:44.381051Z"
    }
   },
   "outputs": [
    {
     "data": {
      "text/plain": [
       "668"
      ]
     },
     "execution_count": 6,
     "metadata": {},
     "output_type": "execute_result"
    }
   ],
   "source": [
    "test = FinishedAppsFrame[(FinishedAppsFrame.CheckDate>\"2018-12\")&(FinishedAppsFrame.CheckDate<\"2019-01\")]\n",
    "test.count()[0]"
   ]
  },
  {
   "cell_type": "code",
   "execution_count": 7,
   "metadata": {
    "ExecuteTime": {
     "end_time": "2020-03-05T02:09:48.523752Z",
     "start_time": "2020-03-05T02:09:47.584055Z"
    }
   },
   "outputs": [
    {
     "data": {
      "text/plain": [
       "Text(0.5, 1.0, 'Monthly Long Check number AVG')"
      ]
     },
     "execution_count": 7,
     "metadata": {},
     "output_type": "execute_result"
    },
    {
     "data": {
      "image/png": "[encoded data removed]",
      "text/plain": [
       "<Figure size 1440x720 with 2 Axes>"
      ]
     },
     "metadata": {
      "needs_background": "light"
     },
     "output_type": "display_data"
    }
   ],
   "source": [
    "Checknums = []\n",
    "longchecknums = []\n",
    "ListofTime = ListofTime_generator(StartYear,StartMon,EndYear,EndMon)\n",
    "buf = ListofTime[:-1]\n",
    "timeaxis = []\n",
    "for items in buf:\n",
    "    timeaxis.append(int(items[0:4])*100+int(items[5:7]))\n",
    "\n",
    "#print(ListofTime)\n",
    "#print(timeaxis)\n",
    "\n",
    "checkavgtime = []\n",
    "longcheckavgtime = []\n",
    "\n",
    "for i in range(len(ListofTime)-1):\n",
    "    checkbuf = FinishedAppsFrame[(FinishedAppsFrame.CheckDate>ListofTime[i])&(FinishedAppsFrame.CheckDate<ListofTime[i+1])]\n",
    "    longcheckbuf = LongCheckAppsFrame[(LongCheckAppsFrame.CheckDate>ListofTime[i])&(LongCheckAppsFrame.CheckDate<ListofTime[i+1])]\n",
    "    Checknums.append(checkbuf.count()[0])\n",
    "    longchecknums.append(longcheckbuf.count()[0])\n",
    "    \n",
    "plt.figure(figsize=(20,10))\n",
    "ax1 = plt.subplot(2,1,1)\n",
    "plt.plot(Checknums)\n",
    "#plt.xticks(timeaxis, timeaxis, rotation='vertical')\n",
    "\n",
    "ax2 = plt.subplot(2,1,2)\n",
    "plt.plot(longchecknums)\n",
    "#plt.xticks(timeaxis, timeaxis, rotation='vertical')\n",
    "\n",
    "ax1.set_title('Monthly Check number AVG')\n",
    "ax2.set_title('Monthly Long Check number AVG')"
   ]
  },
  {
   "cell_type": "code",
   "execution_count": 8,
   "metadata": {
    "ExecuteTime": {
     "end_time": "2020-03-05T02:09:53.290212Z",
     "start_time": "2020-03-05T02:09:53.286213Z"
    }
   },
   "outputs": [
    {
     "name": "stdout",
     "output_type": "stream",
     "text": [
      "[200812, 200901, 200902, 200903, 200904, 200905, 200906, 200907, 200908, 200909, 200910, 200911, 200912, 201001, 201002, 201003, 201004, 201005, 201006, 201007, 201008, 201009, 201010, 201011, 201012, 201101, 201102, 201103, 201104, 201105, 201106, 201107, 201108, 201109, 201110, 201111, 201112, 201201, 201202, 201203, 201204, 201205, 201206, 201207, 201208, 201209, 201210, 201211, 201212, 201301, 201302, 201303, 201304, 201305, 201306, 201307, 201308, 201309, 201310, 201311, 201312, 201401, 201402, 201403, 201404, 201405, 201406, 201407, 201408, 201409, 201410, 201411, 201412, 201501, 201502, 201503, 201504, 201505, 201506, 201507, 201508, 201509, 201510, 201511, 201512, 201601, 201602, 201603, 201604, 201605, 201606, 201607, 201608, 201609, 201610, 201611, 201612, 201701, 201702, 201703, 201704, 201705, 201706, 201707, 201708, 201709, 201710, 201711, 201712, 201801, 201802, 201803, 201804, 201805, 201806, 201807, 201808, 201809, 201810, 201811, 201812, 201901, 201902, 201903, 201904, 201905, 201906, 201907, 201908, 201909, 201910, 201911, 201912, 202001]\n"
     ]
    }
   ],
   "source": [
    "print(timeaxis)"
   ]
  },
  {
   "cell_type": "code",
   "execution_count": 9,
   "metadata": {
    "ExecuteTime": {
     "end_time": "2020-03-05T02:09:55.707433Z",
     "start_time": "2020-03-05T02:09:55.703443Z"
    }
   },
   "outputs": [
    {
     "name": "stdout",
     "output_type": "stream",
     "text": [
      "2015 3\n"
     ]
    }
   ],
   "source": [
    "test = \"2015-03\"\n",
    "year = int(test[0:4])\n",
    "mon = int(test[5:7])\n",
    "\n",
    "print(year,mon)"
   ]
  },
  {
   "cell_type": "code",
   "execution_count": null,
   "metadata": {},
   "outputs": [],
   "source": []
  }
 ],
 "metadata": {
  "kernelspec": {
   "display_name": "Python 3",
   "language": "python",
   "name": "python3"
  },
  "language_info": {
   "codemirror_mode": {
    "name": "ipython",
    "version": 3
   },
   "file_extension": ".py",
   "mimetype": "text/x-python",
   "name": "python",
   "nbconvert_exporter": "python",
   "pygments_lexer": "ipython3",
   "version": "3.7.4"
  },
  "toc": {
   "base_numbering": 1,
   "nav_menu": {},
   "number_sections": true,
   "sideBar": true,
   "skip_h1_title": false,
   "title_cell": "Table of Contents",
   "title_sidebar": "Contents",
   "toc_cell": false,
   "toc_position": {},
   "toc_section_display": true,
   "toc_window_display": false
  },
  "varInspector": {
   "cols": {
    "lenName": 16,
    "lenType": 16,
    "lenVar": 40
   },
   "kernels_config": {
    "python": {
     "delete_cmd_postfix": "",
     "delete_cmd_prefix": "del ",
     "library": "var_list.py",
     "varRefreshCmd": "print(var_dic_list())"
    },
    "r": {
     "delete_cmd_postfix": ") ",
     "delete_cmd_prefix": "rm(",
     "library": "var_list.r",
     "varRefreshCmd": "cat(var_dic_list()) "
    }
   },
   "types_to_exclude": [
    "module",
    "function",
    "builtin_function_or_method",
    "instance",
    "_Feature"
   ],
   "window_display": false
  }
 },
 "nbformat": 4,
 "nbformat_minor": 2
}
